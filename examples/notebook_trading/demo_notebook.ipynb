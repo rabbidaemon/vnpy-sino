{
 "cells": [
  {
   "cell_type": "code",
   "execution_count": 8,
   "metadata": {},
   "outputs": [],
   "source": [
    "from vnpy.app.script_trader import init_cli_trading\n",
    "from vnpy.gateway.ctp import CtpGateway\n",
    "from vnpy.gateway.sinopac import SinopacGateway\n",
    "from vnpy.trader.utility import load_json\n",
    "import pandas as pd"
   ]
  },
  {
   "cell_type": "code",
   "execution_count": 2,
   "metadata": {},
   "outputs": [
    {
     "output_type": "stream",
     "name": "stdout",
     "text": [
      "2021-02-20 22:49:50.253044\t使用永豐金證券 模擬 平台\n",
      "Response Code: 0 | Event Code: 0 | Info: host '218.32.76.102:80', IP 218.32.76.102:80 (host 1 of 1) (host connection attempt 1 of 1) (total connection attempt 1 of 1) | Event: Session up\n",
      "2021-02-20 22:49:50.548675\tDownload 商品檔 IND 完成\n",
      "2021-02-20 22:49:50.555513\t登入成功. [PAPIUSER08]\n",
      "2021-02-20 22:49:50.555558\t期貨帳號: [0] - F002000-1302606 PAPIUSER08\n",
      "2021-02-20 22:49:50.555570\t期貨帳號: [1] - F002000-9135765 PAPIUSER08\n",
      "2021-02-20 22:49:50.555579\t期貨帳號: [2] - F002000-0373377 PAPIUSER08\n",
      "2021-02-20 22:49:50.555588\t期貨帳號: [3] - F002000-9140323 PAPIUSER08\n",
      "2021-02-20 22:49:50.555596\t股票帳號: [0] - 9A95-7383192 PAPIUSER08\n",
      "2021-02-20 22:49:50.555601\t股票帳號: [1] - 9A95-7382096 PAPIUSER08\n",
      "2021-02-20 22:49:50.555606\t股票帳號: [2] - 9A95-7385860 PAPIUSER08\n",
      "2021-02-20 22:49:50.555616\t***預設 現貨下單帳號 - [0] F002000-1302606 PAPIUSER08\n",
      "2021-02-20 22:49:50.555622\t***預設 期貨下單帳號 - [0] F002000-1302606 PAPIUSER08\n",
      "2021-02-20 22:49:50.705729\t庫存部位查詢\n",
      "2021-02-20 22:49:50.705759\t交易行情 - 連線成功\n",
      "2021-02-20 22:49:57.420933\tDownload 商品檔 STK 完成\n",
      "2021-02-20 22:49:58.397761\tDownload 商品檔 FUT 完成\n",
      "2021-02-20 22:49:58.998859\tDownload 商品檔 OPT 完成\n"
     ]
    }
   ],
   "source": [
    "# 连接到服务器\n",
    "# setting = load_json(\"connect_ctp.json\")\n",
    "setting = {\n",
    "        \"身份證字號\": \"PAPIUSER08\",\n",
    "        \"密碼\": \"2222\",\n",
    "        \"憑證檔案路徑\": \"\",\n",
    "        \"憑證密碼\": \"\",\n",
    "        # \"環境\": [\"正式\", \"模擬\"],\n",
    "        \"環境\": \"模擬\",\n",
    "        \"預設現貨帳號\": \"0\",\n",
    "        \"預設期貨帳號\": \"0\",\n",
    "    }\n",
    "# engine = init_cli_trading([CtpGateway])\n",
    "# engine.connect_gateway(setting, \"CTP\")\n",
    "engine = init_cli_trading([SinopacGateway])\n",
    "engine.connect_gateway(setting, \"Sinopac\")"
   ]
  },
  {
   "cell_type": "code",
   "execution_count": 3,
   "metadata": {
    "scrolled": false
   },
   "outputs": [],
   "source": [
    "# 查询所有合约\n",
    "all_ctst = engine.get_all_contracts(use_df=True)"
   ]
  },
  {
   "cell_type": "code",
   "execution_count": 4,
   "metadata": {},
   "outputs": [
    {
     "output_type": "execute_result",
     "data": {
      "text/plain": [
       "      gateway_name      symbol      exchange                   name  \\\n",
       "0          Sinopac       BRFE1  Exchange.TFE          布蘭特原油期貨202104   \n",
       "1          Sinopac       BRFF1  Exchange.TFE          布蘭特原油期貨202105   \n",
       "2          Sinopac       BRFL1  Exchange.TFE          布蘭特原油期貨202111   \n",
       "3          Sinopac       BRFF2  Exchange.TFE          布蘭特原油期貨202205   \n",
       "4          Sinopac       BRFD1  Exchange.TFE          布蘭特原油期貨202103   \n",
       "...            ...         ...           ...                    ...   \n",
       "44249      Sinopac  TXO11000O1  Exchange.TFE  臺指選擇權 202103 11000.0P   \n",
       "44250      Sinopac  TXO16200I1  Exchange.TFE  臺指選擇權 202109 16200.0C   \n",
       "44251      Sinopac  TXO16800O1  Exchange.TFE  臺指選擇權 202103 16800.0P   \n",
       "44252      Sinopac  TXO14700E1  Exchange.TFE  臺指選擇權 202105 14700.0C   \n",
       "44253      Sinopac  TXO17500Q1  Exchange.TFE  臺指選擇權 202105 17500.0P   \n",
       "\n",
       "               product  size  pricetick  min_volume  stop_supported  \\\n",
       "0      Product.FUTURES   200       0.01           1           False   \n",
       "1      Product.FUTURES   200       0.01           1           False   \n",
       "2      Product.FUTURES   200       0.01           1           False   \n",
       "3      Product.FUTURES   200       0.01           1           False   \n",
       "4      Product.FUTURES   200       0.01           1           False   \n",
       "...                ...   ...        ...         ...             ...   \n",
       "44249   Product.OPTION    50       0.01           1           False   \n",
       "44250   Product.OPTION    50       0.01           1           False   \n",
       "44251   Product.OPTION    50       0.01           1           False   \n",
       "44252   Product.OPTION    50       0.01           1           False   \n",
       "44253   Product.OPTION    50       0.01           1           False   \n",
       "\n",
       "       net_position  history_data  option_strike option_underlying  \\\n",
       "0              True         False            0.0                     \n",
       "1              True         False            0.0                     \n",
       "2              True         False            0.0                     \n",
       "3              True         False            0.0                     \n",
       "4              True         False            0.0                     \n",
       "...             ...           ...            ...               ...   \n",
       "44249          True         False        11000.0                     \n",
       "44250          True         False        16200.0                     \n",
       "44251          True         False        16800.0                     \n",
       "44252          True         False        14700.0                     \n",
       "44253          True         False        17500.0                     \n",
       "\n",
       "           option_type option_expiry option_portfolio option_index  \\\n",
       "0                 None          None                                 \n",
       "1                 None          None                                 \n",
       "2                 None          None                                 \n",
       "3                 None          None                                 \n",
       "4                 None          None                                 \n",
       "...                ...           ...              ...          ...   \n",
       "44249   OptionType.PUT          None                                 \n",
       "44250  OptionType.CALL          None                                 \n",
       "44251   OptionType.PUT          None                                 \n",
       "44252  OptionType.CALL          None                                 \n",
       "44253   OptionType.PUT          None                                 \n",
       "\n",
       "            vt_symbol  \n",
       "0           BRFE1.TFE  \n",
       "1           BRFF1.TFE  \n",
       "2           BRFL1.TFE  \n",
       "3           BRFF2.TFE  \n",
       "4           BRFD1.TFE  \n",
       "...               ...  \n",
       "44249  TXO11000O1.TFE  \n",
       "44250  TXO16200I1.TFE  \n",
       "44251  TXO16800O1.TFE  \n",
       "44252  TXO14700E1.TFE  \n",
       "44253  TXO17500Q1.TFE  \n",
       "\n",
       "[44254 rows x 18 columns]"
      ],
      "text/html": "<div>\n<style scoped>\n    .dataframe tbody tr th:only-of-type {\n        vertical-align: middle;\n    }\n\n    .dataframe tbody tr th {\n        vertical-align: top;\n    }\n\n    .dataframe thead th {\n        text-align: right;\n    }\n</style>\n<table border=\"1\" class=\"dataframe\">\n  <thead>\n    <tr style=\"text-align: right;\">\n      <th></th>\n      <th>gateway_name</th>\n      <th>symbol</th>\n      <th>exchange</th>\n      <th>name</th>\n      <th>product</th>\n      <th>size</th>\n      <th>pricetick</th>\n      <th>min_volume</th>\n      <th>stop_supported</th>\n      <th>net_position</th>\n      <th>history_data</th>\n      <th>option_strike</th>\n      <th>option_underlying</th>\n      <th>option_type</th>\n      <th>option_expiry</th>\n      <th>option_portfolio</th>\n      <th>option_index</th>\n      <th>vt_symbol</th>\n    </tr>\n  </thead>\n  <tbody>\n    <tr>\n      <th>0</th>\n      <td>Sinopac</td>\n      <td>BRFE1</td>\n      <td>Exchange.TFE</td>\n      <td>布蘭特原油期貨202104</td>\n      <td>Product.FUTURES</td>\n      <td>200</td>\n      <td>0.01</td>\n      <td>1</td>\n      <td>False</td>\n      <td>True</td>\n      <td>False</td>\n      <td>0.0</td>\n      <td></td>\n      <td>None</td>\n      <td>None</td>\n      <td></td>\n      <td></td>\n      <td>BRFE1.TFE</td>\n    </tr>\n    <tr>\n      <th>1</th>\n      <td>Sinopac</td>\n      <td>BRFF1</td>\n      <td>Exchange.TFE</td>\n      <td>布蘭特原油期貨202105</td>\n      <td>Product.FUTURES</td>\n      <td>200</td>\n      <td>0.01</td>\n      <td>1</td>\n      <td>False</td>\n      <td>True</td>\n      <td>False</td>\n      <td>0.0</td>\n      <td></td>\n      <td>None</td>\n      <td>None</td>\n      <td></td>\n      <td></td>\n      <td>BRFF1.TFE</td>\n    </tr>\n    <tr>\n      <th>2</th>\n      <td>Sinopac</td>\n      <td>BRFL1</td>\n      <td>Exchange.TFE</td>\n      <td>布蘭特原油期貨202111</td>\n      <td>Product.FUTURES</td>\n      <td>200</td>\n      <td>0.01</td>\n      <td>1</td>\n      <td>False</td>\n      <td>True</td>\n      <td>False</td>\n      <td>0.0</td>\n      <td></td>\n      <td>None</td>\n      <td>None</td>\n      <td></td>\n      <td></td>\n      <td>BRFL1.TFE</td>\n    </tr>\n    <tr>\n      <th>3</th>\n      <td>Sinopac</td>\n      <td>BRFF2</td>\n      <td>Exchange.TFE</td>\n      <td>布蘭特原油期貨202205</td>\n      <td>Product.FUTURES</td>\n      <td>200</td>\n      <td>0.01</td>\n      <td>1</td>\n      <td>False</td>\n      <td>True</td>\n      <td>False</td>\n      <td>0.0</td>\n      <td></td>\n      <td>None</td>\n      <td>None</td>\n      <td></td>\n      <td></td>\n      <td>BRFF2.TFE</td>\n    </tr>\n    <tr>\n      <th>4</th>\n      <td>Sinopac</td>\n      <td>BRFD1</td>\n      <td>Exchange.TFE</td>\n      <td>布蘭特原油期貨202103</td>\n      <td>Product.FUTURES</td>\n      <td>200</td>\n      <td>0.01</td>\n      <td>1</td>\n      <td>False</td>\n      <td>True</td>\n      <td>False</td>\n      <td>0.0</td>\n      <td></td>\n      <td>None</td>\n      <td>None</td>\n      <td></td>\n      <td></td>\n      <td>BRFD1.TFE</td>\n    </tr>\n    <tr>\n      <th>...</th>\n      <td>...</td>\n      <td>...</td>\n      <td>...</td>\n      <td>...</td>\n      <td>...</td>\n      <td>...</td>\n      <td>...</td>\n      <td>...</td>\n      <td>...</td>\n      <td>...</td>\n      <td>...</td>\n      <td>...</td>\n      <td>...</td>\n      <td>...</td>\n      <td>...</td>\n      <td>...</td>\n      <td>...</td>\n      <td>...</td>\n    </tr>\n    <tr>\n      <th>44249</th>\n      <td>Sinopac</td>\n      <td>TXO11000O1</td>\n      <td>Exchange.TFE</td>\n      <td>臺指選擇權 202103 11000.0P</td>\n      <td>Product.OPTION</td>\n      <td>50</td>\n      <td>0.01</td>\n      <td>1</td>\n      <td>False</td>\n      <td>True</td>\n      <td>False</td>\n      <td>11000.0</td>\n      <td></td>\n      <td>OptionType.PUT</td>\n      <td>None</td>\n      <td></td>\n      <td></td>\n      <td>TXO11000O1.TFE</td>\n    </tr>\n    <tr>\n      <th>44250</th>\n      <td>Sinopac</td>\n      <td>TXO16200I1</td>\n      <td>Exchange.TFE</td>\n      <td>臺指選擇權 202109 16200.0C</td>\n      <td>Product.OPTION</td>\n      <td>50</td>\n      <td>0.01</td>\n      <td>1</td>\n      <td>False</td>\n      <td>True</td>\n      <td>False</td>\n      <td>16200.0</td>\n      <td></td>\n      <td>OptionType.CALL</td>\n      <td>None</td>\n      <td></td>\n      <td></td>\n      <td>TXO16200I1.TFE</td>\n    </tr>\n    <tr>\n      <th>44251</th>\n      <td>Sinopac</td>\n      <td>TXO16800O1</td>\n      <td>Exchange.TFE</td>\n      <td>臺指選擇權 202103 16800.0P</td>\n      <td>Product.OPTION</td>\n      <td>50</td>\n      <td>0.01</td>\n      <td>1</td>\n      <td>False</td>\n      <td>True</td>\n      <td>False</td>\n      <td>16800.0</td>\n      <td></td>\n      <td>OptionType.PUT</td>\n      <td>None</td>\n      <td></td>\n      <td></td>\n      <td>TXO16800O1.TFE</td>\n    </tr>\n    <tr>\n      <th>44252</th>\n      <td>Sinopac</td>\n      <td>TXO14700E1</td>\n      <td>Exchange.TFE</td>\n      <td>臺指選擇權 202105 14700.0C</td>\n      <td>Product.OPTION</td>\n      <td>50</td>\n      <td>0.01</td>\n      <td>1</td>\n      <td>False</td>\n      <td>True</td>\n      <td>False</td>\n      <td>14700.0</td>\n      <td></td>\n      <td>OptionType.CALL</td>\n      <td>None</td>\n      <td></td>\n      <td></td>\n      <td>TXO14700E1.TFE</td>\n    </tr>\n    <tr>\n      <th>44253</th>\n      <td>Sinopac</td>\n      <td>TXO17500Q1</td>\n      <td>Exchange.TFE</td>\n      <td>臺指選擇權 202105 17500.0P</td>\n      <td>Product.OPTION</td>\n      <td>50</td>\n      <td>0.01</td>\n      <td>1</td>\n      <td>False</td>\n      <td>True</td>\n      <td>False</td>\n      <td>17500.0</td>\n      <td></td>\n      <td>OptionType.PUT</td>\n      <td>None</td>\n      <td></td>\n      <td></td>\n      <td>TXO17500Q1.TFE</td>\n    </tr>\n  </tbody>\n</table>\n<p>44254 rows × 18 columns</p>\n</div>"
     },
     "metadata": {},
     "execution_count": 4
    }
   ],
   "source": [
    "all_ctst"
   ]
  },
  {
   "cell_type": "code",
   "execution_count": 5,
   "metadata": {},
   "outputs": [],
   "source": [
    "all_ctst_dict={**all_ctst}"
   ]
  },
  {
   "cell_type": "code",
   "execution_count": null,
   "metadata": {},
   "outputs": [],
   "source": [
    "# 查询资金\n",
    "engine.get_all_accounts(use_df=True)"
   ]
  },
  {
   "cell_type": "code",
   "execution_count": 28,
   "metadata": {},
   "outputs": [
    {
     "output_type": "execute_result",
     "data": {
      "text/plain": [
       "  gateway_name  symbol      exchange       direction  volume  frozen  price  \\\n",
       "0      Sinopac  00672L  Exchange.TSE  Direction.LONG    5640       0   0.03   \n",
       "\n",
       "        pnl  yd_volume   vt_symbol vt_positionid  \n",
       "0 -168066.0       5640  00672L.TSE  00672L.TSE.多  "
      ],
      "text/html": "<div>\n<style scoped>\n    .dataframe tbody tr th:only-of-type {\n        vertical-align: middle;\n    }\n\n    .dataframe tbody tr th {\n        vertical-align: top;\n    }\n\n    .dataframe thead th {\n        text-align: right;\n    }\n</style>\n<table border=\"1\" class=\"dataframe\">\n  <thead>\n    <tr style=\"text-align: right;\">\n      <th></th>\n      <th>gateway_name</th>\n      <th>symbol</th>\n      <th>exchange</th>\n      <th>direction</th>\n      <th>volume</th>\n      <th>frozen</th>\n      <th>price</th>\n      <th>pnl</th>\n      <th>yd_volume</th>\n      <th>vt_symbol</th>\n      <th>vt_positionid</th>\n    </tr>\n  </thead>\n  <tbody>\n    <tr>\n      <th>0</th>\n      <td>Sinopac</td>\n      <td>00672L</td>\n      <td>Exchange.TSE</td>\n      <td>Direction.LONG</td>\n      <td>5640</td>\n      <td>0</td>\n      <td>0.03</td>\n      <td>-168066.0</td>\n      <td>5640</td>\n      <td>00672L.TSE</td>\n      <td>00672L.TSE.多</td>\n    </tr>\n  </tbody>\n</table>\n</div>"
     },
     "metadata": {},
     "execution_count": 28
    }
   ],
   "source": [
    "# 查询持仓\n",
    "engine.get_all_positions(use_df=True)"
   ]
  },
  {
   "cell_type": "code",
   "execution_count": 29,
   "metadata": {},
   "outputs": [],
   "source": [
    "# 查询活动委托\n",
    "engine.get_all_active_orders(use_df=True)"
   ]
  },
  {
   "cell_type": "code",
   "execution_count": 32,
   "metadata": {},
   "outputs": [],
   "source": [
    "# 订阅行情\n",
    "# engine.subscribe([\"600036.SSE\"])\n",
    "engine.subscribe([\"2330.TSE\",\"2303.TSE\"])"
   ]
  },
  {
   "cell_type": "code",
   "execution_count": 33,
   "metadata": {},
   "outputs": [
    {
     "output_type": "execute_result",
     "data": {
      "text/plain": [
       "  gateway_name symbol      exchange            datetime name  volume  \\\n",
       "0      Sinopac   2330  Exchange.TSE 2021-02-19 14:30:00  台積電   50279   \n",
       "1      Sinopac   2303  Exchange.TSE 2021-02-19 14:30:00   聯電  190960   \n",
       "\n",
       "   open_interest  last_price  last_volume  limit_up  ...  bid_volume_2  \\\n",
       "0              0       652.0            0     726.0  ...             0   \n",
       "1              0        57.2            0      64.0  ...             0   \n",
       "\n",
       "   bid_volume_3  bid_volume_4  bid_volume_5  ask_volume_1  ask_volume_2  \\\n",
       "0             0             0             0            13             0   \n",
       "1             0             0             0             7             0   \n",
       "\n",
       "   ask_volume_3  ask_volume_4  ask_volume_5  vt_symbol  \n",
       "0             0             0             0   2330.TSE  \n",
       "1             0             0             0   2303.TSE  \n",
       "\n",
       "[2 rows x 36 columns]"
      ],
      "text/html": "<div>\n<style scoped>\n    .dataframe tbody tr th:only-of-type {\n        vertical-align: middle;\n    }\n\n    .dataframe tbody tr th {\n        vertical-align: top;\n    }\n\n    .dataframe thead th {\n        text-align: right;\n    }\n</style>\n<table border=\"1\" class=\"dataframe\">\n  <thead>\n    <tr style=\"text-align: right;\">\n      <th></th>\n      <th>gateway_name</th>\n      <th>symbol</th>\n      <th>exchange</th>\n      <th>datetime</th>\n      <th>name</th>\n      <th>volume</th>\n      <th>open_interest</th>\n      <th>last_price</th>\n      <th>last_volume</th>\n      <th>limit_up</th>\n      <th>...</th>\n      <th>bid_volume_2</th>\n      <th>bid_volume_3</th>\n      <th>bid_volume_4</th>\n      <th>bid_volume_5</th>\n      <th>ask_volume_1</th>\n      <th>ask_volume_2</th>\n      <th>ask_volume_3</th>\n      <th>ask_volume_4</th>\n      <th>ask_volume_5</th>\n      <th>vt_symbol</th>\n    </tr>\n  </thead>\n  <tbody>\n    <tr>\n      <th>0</th>\n      <td>Sinopac</td>\n      <td>2330</td>\n      <td>Exchange.TSE</td>\n      <td>2021-02-19 14:30:00</td>\n      <td>台積電</td>\n      <td>50279</td>\n      <td>0</td>\n      <td>652.0</td>\n      <td>0</td>\n      <td>726.0</td>\n      <td>...</td>\n      <td>0</td>\n      <td>0</td>\n      <td>0</td>\n      <td>0</td>\n      <td>13</td>\n      <td>0</td>\n      <td>0</td>\n      <td>0</td>\n      <td>0</td>\n      <td>2330.TSE</td>\n    </tr>\n    <tr>\n      <th>1</th>\n      <td>Sinopac</td>\n      <td>2303</td>\n      <td>Exchange.TSE</td>\n      <td>2021-02-19 14:30:00</td>\n      <td>聯電</td>\n      <td>190960</td>\n      <td>0</td>\n      <td>57.2</td>\n      <td>0</td>\n      <td>64.0</td>\n      <td>...</td>\n      <td>0</td>\n      <td>0</td>\n      <td>0</td>\n      <td>0</td>\n      <td>7</td>\n      <td>0</td>\n      <td>0</td>\n      <td>0</td>\n      <td>0</td>\n      <td>2303.TSE</td>\n    </tr>\n  </tbody>\n</table>\n<p>2 rows × 36 columns</p>\n</div>"
     },
     "metadata": {},
     "execution_count": 33
    }
   ],
   "source": [
    "# 查询行情\n",
    "# engine.get_tick(\"600036.SSE\", use_df=True)\n",
    "# engine.get_tick(\"2330.TSE\", use_df=True)\n",
    "engine.get_ticks([\"2330.TSE\", \"2303.TSE\"], use_df=True)"
   ]
  },
  {
   "cell_type": "code",
   "execution_count": null,
   "metadata": {},
   "outputs": [],
   "source": [
    "# 委托下单\n",
    "vt_orderid = engine.buy(\"600036.SSE\", 32, 1000)\n",
    "print(vt_orderid)"
   ]
  },
  {
   "cell_type": "code",
   "execution_count": null,
   "metadata": {},
   "outputs": [],
   "source": [
    "# 查询特定委托\n",
    "engine.get_order(vt_orderid)"
   ]
  },
  {
   "cell_type": "code",
   "execution_count": null,
   "metadata": {},
   "outputs": [],
   "source": [
    "# 委托撤单\n",
    "engine.cancel_order(vt_orderid)"
   ]
  },
  {
   "cell_type": "code",
   "execution_count": 61,
   "metadata": {},
   "outputs": [],
   "source": [
    "engine.subscribe"
   ]
  },
  {
   "cell_type": "code",
   "execution_count": 4,
   "metadata": {},
   "outputs": [],
   "source": [
    "ctst_2330= engine.main_engine.gateways['Sinopac'].api.Contracts.Stocks.TSE['TSE2330']"
   ]
  },
  {
   "cell_type": "code",
   "execution_count": 16,
   "metadata": {},
   "outputs": [],
   "source": [
    "kbar = engine.main_engine.gateways['Sinopac'].api.kbars(ctst_2330,start='2021-02-18',end='2021-02-19')"
   ]
  },
  {
   "cell_type": "code",
   "execution_count": 17,
   "metadata": {},
   "outputs": [
    {
     "output_type": "execute_result",
     "data": {
      "text/plain": [
       "DatetimeIndex(['2021-02-19 09:01:00', '2021-02-19 09:02:00',\n",
       "               '2021-02-19 09:03:00', '2021-02-19 09:04:00',\n",
       "               '2021-02-19 09:05:00', '2021-02-19 09:06:00',\n",
       "               '2021-02-19 09:07:00', '2021-02-19 09:08:00',\n",
       "               '2021-02-19 09:09:00', '2021-02-19 09:10:00',\n",
       "               ...\n",
       "               '2021-02-19 13:21:00', '2021-02-19 13:22:00',\n",
       "               '2021-02-19 13:23:00', '2021-02-19 13:24:00',\n",
       "               '2021-02-19 13:25:00', '2021-02-19 13:26:00',\n",
       "               '2021-02-19 13:27:00', '2021-02-19 13:28:00',\n",
       "               '2021-02-19 13:29:00', '2021-02-19 13:30:00'],\n",
       "              dtype='datetime64[ns]', length=270, freq=None)"
      ]
     },
     "metadata": {},
     "execution_count": 17
    }
   ],
   "source": [
    "pd.to_datetime(kbar.ts)"
   ]
  },
  {
   "cell_type": "code",
   "execution_count": 8,
   "metadata": {
    "tags": []
   },
   "outputs": [],
   "source": [
    "import pandas as pd \n",
    "df = pd.DataFrame({**engine.main_engine.gateways['Sinopac'].api.kbars(ctst_2330\n",
    ")})\n",
    "# df = {**engine.main_engine.gateways['Sinopac'].api.kbars(ctst_2330)}\n",
    "\n",
    "\n",
    "\n",
    "# for item in df:\n",
    "    \n",
    "\n"
   ]
  },
  {
   "cell_type": "code",
   "execution_count": 9,
   "metadata": {},
   "outputs": [
    {
     "output_type": "execute_result",
     "data": {
      "text/plain": [
       "{'Open': 0      656.0\n",
       " 1      653.0\n",
       " 2      653.0\n",
       " 3      655.0\n",
       " 4      656.0\n",
       "        ...  \n",
       " 265    653.0\n",
       " 266    653.0\n",
       " 267    653.0\n",
       " 268    653.0\n",
       " 269    652.0\n",
       " Name: Open, Length: 270, dtype: float64,\n",
       " 'ts': 0      1613725260000000000\n",
       " 1      1613725320000000000\n",
       " 2      1613725380000000000\n",
       " 3      1613725440000000000\n",
       " 4      1613725500000000000\n",
       "               ...         \n",
       " 265    1613741160000000000\n",
       " 266    1613741220000000000\n",
       " 267    1613741280000000000\n",
       " 268    1613741340000000000\n",
       " 269    1613741400000000000\n",
       " Name: ts, Length: 270, dtype: int64,\n",
       " 'Volume': 0      4277\n",
       " 1      1086\n",
       " 2       625\n",
       " 3       459\n",
       " 4       590\n",
       "        ... \n",
       " 265       0\n",
       " 266       0\n",
       " 267       0\n",
       " 268       0\n",
       " 269    4615\n",
       " Name: Volume, Length: 270, dtype: int64,\n",
       " 'Close': 0      654.0\n",
       " 1      654.0\n",
       " 2      655.0\n",
       " 3      656.0\n",
       " 4      656.0\n",
       "        ...  \n",
       " 265    653.0\n",
       " 266    653.0\n",
       " 267    653.0\n",
       " 268    653.0\n",
       " 269    652.0\n",
       " Name: Close, Length: 270, dtype: float64,\n",
       " 'Low': 0      653.0\n",
       " 1      653.0\n",
       " 2      653.0\n",
       " 3      654.0\n",
       " 4      655.0\n",
       "        ...  \n",
       " 265    653.0\n",
       " 266    653.0\n",
       " 267    653.0\n",
       " 268    653.0\n",
       " 269    652.0\n",
       " Name: Low, Length: 270, dtype: float64,\n",
       " 'High': 0      656.0\n",
       " 1      654.0\n",
       " 2      655.0\n",
       " 3      656.0\n",
       " 4      657.0\n",
       "        ...  \n",
       " 265    653.0\n",
       " 266    653.0\n",
       " 267    653.0\n",
       " 268    653.0\n",
       " 269    652.0\n",
       " Name: High, Length: 270, dtype: float64}"
      ]
     },
     "metadata": {},
     "execution_count": 9
    }
   ],
   "source": [
    "{**df}"
   ]
  },
  {
   "cell_type": "code",
   "execution_count": 36,
   "metadata": {
    "tags": []
   },
   "outputs": [
    {
     "output_type": "stream",
     "name": "stdout",
     "text": [
      "0 \n 2021-02-19 09:01:00\n1 \n 2021-02-19 09:02:00\n2 \n 2021-02-19 09:03:00\n3 \n 2021-02-19 09:04:00\n4 \n 2021-02-19 09:05:00\n5 \n 2021-02-19 09:06:00\n6 \n 2021-02-19 09:07:00\n7 \n 2021-02-19 09:08:00\n8 \n 2021-02-19 09:09:00\n9 \n 2021-02-19 09:10:00\n10 \n 2021-02-19 09:11:00\n11 \n 2021-02-19 09:12:00\n12 \n 2021-02-19 09:13:00\n13 \n 2021-02-19 09:14:00\n14 \n 2021-02-19 09:15:00\n15 \n 2021-02-19 09:16:00\n16 \n 2021-02-19 09:17:00\n17 \n 2021-02-19 09:18:00\n18 \n 2021-02-19 09:19:00\n19 \n 2021-02-19 09:20:00\n20 \n 2021-02-19 09:21:00\n21 \n 2021-02-19 09:22:00\n22 \n 2021-02-19 09:23:00\n23 \n 2021-02-19 09:24:00\n24 \n 2021-02-19 09:25:00\n25 \n 2021-02-19 09:26:00\n26 \n 2021-02-19 09:27:00\n27 \n 2021-02-19 09:28:00\n28 \n 2021-02-19 09:29:00\n29 \n 2021-02-19 09:30:00\n30 \n 2021-02-19 09:31:00\n31 \n 2021-02-19 09:32:00\n32 \n 2021-02-19 09:33:00\n33 \n 2021-02-19 09:34:00\n34 \n 2021-02-19 09:35:00\n35 \n 2021-02-19 09:36:00\n36 \n 2021-02-19 09:37:00\n37 \n 2021-02-19 09:38:00\n38 \n 2021-02-19 09:39:00\n39 \n 2021-02-19 09:40:00\n40 \n 2021-02-19 09:41:00\n41 \n 2021-02-19 09:42:00\n42 \n 2021-02-19 09:43:00\n43 \n 2021-02-19 09:44:00\n44 \n 2021-02-19 09:45:00\n45 \n 2021-02-19 09:46:00\n46 \n 2021-02-19 09:47:00\n47 \n 2021-02-19 09:48:00\n48 \n 2021-02-19 09:49:00\n49 \n 2021-02-19 09:50:00\n50 \n 2021-02-19 09:51:00\n51 \n 2021-02-19 09:52:00\n52 \n 2021-02-19 09:53:00\n53 \n 2021-02-19 09:54:00\n54 \n 2021-02-19 09:55:00\n55 \n 2021-02-19 09:56:00\n56 \n 2021-02-19 09:57:00\n57 \n 2021-02-19 09:58:00\n58 \n 2021-02-19 09:59:00\n59 \n 2021-02-19 10:00:00\n60 \n 2021-02-19 10:01:00\n61 \n 2021-02-19 10:02:00\n62 \n 2021-02-19 10:03:00\n63 \n 2021-02-19 10:04:00\n64 \n 2021-02-19 10:05:00\n65 \n 2021-02-19 10:06:00\n66 \n 2021-02-19 10:07:00\n67 \n 2021-02-19 10:08:00\n68 \n 2021-02-19 10:09:00\n69 \n 2021-02-19 10:10:00\n70 \n 2021-02-19 10:11:00\n71 \n 2021-02-19 10:12:00\n72 \n 2021-02-19 10:13:00\n73 \n 2021-02-19 10:14:00\n74 \n 2021-02-19 10:15:00\n75 \n 2021-02-19 10:16:00\n76 \n 2021-02-19 10:17:00\n77 \n 2021-02-19 10:18:00\n78 \n 2021-02-19 10:19:00\n79 \n 2021-02-19 10:20:00\n80 \n 2021-02-19 10:21:00\n81 \n 2021-02-19 10:22:00\n82 \n 2021-02-19 10:23:00\n83 \n 2021-02-19 10:24:00\n84 \n 2021-02-19 10:25:00\n85 \n 2021-02-19 10:26:00\n86 \n 2021-02-19 10:27:00\n87 \n 2021-02-19 10:28:00\n88 \n 2021-02-19 10:29:00\n89 \n 2021-02-19 10:30:00\n90 \n 2021-02-19 10:31:00\n91 \n 2021-02-19 10:32:00\n92 \n 2021-02-19 10:33:00\n93 \n 2021-02-19 10:34:00\n94 \n 2021-02-19 10:35:00\n95 \n 2021-02-19 10:36:00\n96 \n 2021-02-19 10:37:00\n97 \n 2021-02-19 10:38:00\n98 \n 2021-02-19 10:39:00\n99 \n 2021-02-19 10:40:00\n100 \n 2021-02-19 10:41:00\n101 \n 2021-02-19 10:42:00\n102 \n 2021-02-19 10:43:00\n103 \n 2021-02-19 10:44:00\n104 \n 2021-02-19 10:45:00\n105 \n 2021-02-19 10:46:00\n106 \n 2021-02-19 10:47:00\n107 \n 2021-02-19 10:48:00\n108 \n 2021-02-19 10:49:00\n109 \n 2021-02-19 10:50:00\n110 \n 2021-02-19 10:51:00\n111 \n 2021-02-19 10:52:00\n112 \n 2021-02-19 10:53:00\n113 \n 2021-02-19 10:54:00\n114 \n 2021-02-19 10:55:00\n115 \n 2021-02-19 10:56:00\n116 \n 2021-02-19 10:57:00\n117 \n 2021-02-19 10:58:00\n118 \n 2021-02-19 10:59:00\n119 \n 2021-02-19 11:00:00\n120 \n 2021-02-19 11:01:00\n121 \n 2021-02-19 11:02:00\n122 \n 2021-02-19 11:03:00\n123 \n 2021-02-19 11:04:00\n124 \n 2021-02-19 11:05:00\n125 \n 2021-02-19 11:06:00\n126 \n 2021-02-19 11:07:00\n127 \n 2021-02-19 11:08:00\n128 \n 2021-02-19 11:09:00\n129 \n 2021-02-19 11:10:00\n130 \n 2021-02-19 11:11:00\n131 \n 2021-02-19 11:12:00\n132 \n 2021-02-19 11:13:00\n133 \n 2021-02-19 11:14:00\n134 \n 2021-02-19 11:15:00\n135 \n 2021-02-19 11:16:00\n136 \n 2021-02-19 11:17:00\n137 \n 2021-02-19 11:18:00\n138 \n 2021-02-19 11:19:00\n139 \n 2021-02-19 11:20:00\n140 \n 2021-02-19 11:21:00\n141 \n 2021-02-19 11:22:00\n142 \n 2021-02-19 11:23:00\n143 \n 2021-02-19 11:24:00\n144 \n 2021-02-19 11:25:00\n145 \n 2021-02-19 11:26:00\n146 \n 2021-02-19 11:27:00\n147 \n 2021-02-19 11:28:00\n148 \n 2021-02-19 11:29:00\n149 \n 2021-02-19 11:30:00\n150 \n 2021-02-19 11:31:00\n151 \n 2021-02-19 11:32:00\n152 \n 2021-02-19 11:33:00\n153 \n 2021-02-19 11:34:00\n154 \n 2021-02-19 11:35:00\n155 \n 2021-02-19 11:36:00\n156 \n 2021-02-19 11:37:00\n157 \n 2021-02-19 11:38:00\n158 \n 2021-02-19 11:39:00\n159 \n 2021-02-19 11:40:00\n160 \n 2021-02-19 11:41:00\n161 \n 2021-02-19 11:42:00\n162 \n 2021-02-19 11:43:00\n163 \n 2021-02-19 11:44:00\n164 \n 2021-02-19 11:45:00\n165 \n 2021-02-19 11:46:00\n166 \n 2021-02-19 11:47:00\n167 \n 2021-02-19 11:48:00\n168 \n 2021-02-19 11:49:00\n169 \n 2021-02-19 11:50:00\n170 \n 2021-02-19 11:51:00\n171 \n 2021-02-19 11:52:00\n172 \n 2021-02-19 11:53:00\n173 \n 2021-02-19 11:54:00\n174 \n 2021-02-19 11:55:00\n175 \n 2021-02-19 11:56:00\n176 \n 2021-02-19 11:57:00\n177 \n 2021-02-19 11:58:00\n178 \n 2021-02-19 11:59:00\n179 \n 2021-02-19 12:00:00\n180 \n 2021-02-19 12:01:00\n181 \n 2021-02-19 12:02:00\n182 \n 2021-02-19 12:03:00\n183 \n 2021-02-19 12:04:00\n184 \n 2021-02-19 12:05:00\n185 \n 2021-02-19 12:06:00\n186 \n 2021-02-19 12:07:00\n187 \n 2021-02-19 12:08:00\n188 \n 2021-02-19 12:09:00\n189 \n 2021-02-19 12:10:00\n190 \n 2021-02-19 12:11:00\n191 \n 2021-02-19 12:12:00\n192 \n 2021-02-19 12:13:00\n193 \n 2021-02-19 12:14:00\n194 \n 2021-02-19 12:15:00\n195 \n 2021-02-19 12:16:00\n196 \n 2021-02-19 12:17:00\n197 \n 2021-02-19 12:18:00\n198 \n 2021-02-19 12:19:00\n199 \n 2021-02-19 12:20:00\n200 \n 2021-02-19 12:21:00\n201 \n 2021-02-19 12:22:00\n202 \n 2021-02-19 12:23:00\n203 \n 2021-02-19 12:24:00\n204 \n 2021-02-19 12:25:00\n205 \n 2021-02-19 12:26:00\n206 \n 2021-02-19 12:27:00\n207 \n 2021-02-19 12:28:00\n208 \n 2021-02-19 12:29:00\n209 \n 2021-02-19 12:30:00\n210 \n 2021-02-19 12:31:00\n211 \n 2021-02-19 12:32:00\n212 \n 2021-02-19 12:33:00\n213 \n 2021-02-19 12:34:00\n214 \n 2021-02-19 12:35:00\n215 \n 2021-02-19 12:36:00\n216 \n 2021-02-19 12:37:00\n217 \n 2021-02-19 12:38:00\n218 \n 2021-02-19 12:39:00\n219 \n 2021-02-19 12:40:00\n220 \n 2021-02-19 12:41:00\n221 \n 2021-02-19 12:42:00\n222 \n 2021-02-19 12:43:00\n223 \n 2021-02-19 12:44:00\n224 \n 2021-02-19 12:45:00\n225 \n 2021-02-19 12:46:00\n226 \n 2021-02-19 12:47:00\n227 \n 2021-02-19 12:48:00\n228 \n 2021-02-19 12:49:00\n229 \n 2021-02-19 12:50:00\n230 \n 2021-02-19 12:51:00\n231 \n 2021-02-19 12:52:00\n232 \n 2021-02-19 12:53:00\n233 \n 2021-02-19 12:54:00\n234 \n 2021-02-19 12:55:00\n235 \n 2021-02-19 12:56:00\n236 \n 2021-02-19 12:57:00\n237 \n 2021-02-19 12:58:00\n238 \n 2021-02-19 12:59:00\n239 \n 2021-02-19 13:00:00\n240 \n 2021-02-19 13:01:00\n241 \n 2021-02-19 13:02:00\n242 \n 2021-02-19 13:03:00\n243 \n 2021-02-19 13:04:00\n244 \n 2021-02-19 13:05:00\n245 \n 2021-02-19 13:06:00\n246 \n 2021-02-19 13:07:00\n247 \n 2021-02-19 13:08:00\n248 \n 2021-02-19 13:09:00\n249 \n 2021-02-19 13:10:00\n250 \n 2021-02-19 13:11:00\n251 \n 2021-02-19 13:12:00\n252 \n 2021-02-19 13:13:00\n253 \n 2021-02-19 13:14:00\n254 \n 2021-02-19 13:15:00\n255 \n 2021-02-19 13:16:00\n256 \n 2021-02-19 13:17:00\n257 \n 2021-02-19 13:18:00\n258 \n 2021-02-19 13:19:00\n259 \n 2021-02-19 13:20:00\n260 \n 2021-02-19 13:21:00\n261 \n 2021-02-19 13:22:00\n262 \n 2021-02-19 13:23:00\n263 \n 2021-02-19 13:24:00\n264 \n 2021-02-19 13:25:00\n265 \n 2021-02-19 13:26:00\n266 \n 2021-02-19 13:27:00\n267 \n 2021-02-19 13:28:00\n268 \n 2021-02-19 13:29:00\n269 \n 2021-02-19 13:30:00\n"
     ]
    }
   ],
   "source": [
    "for ix, row in df.iterrows():\n",
    "    print(ix, \"\\n\",  pd.to_datetime(row.ts))"
   ]
  },
  {
   "cell_type": "code",
   "execution_count": 14,
   "metadata": {},
   "outputs": [
    {
     "output_type": "execute_result",
     "data": {
      "text/plain": [
       "set()"
      ]
     },
     "metadata": {},
     "execution_count": 14
    }
   ],
   "source": [
    "{*df}"
   ]
  },
  {
   "cell_type": "code",
   "execution_count": 45,
   "metadata": {},
   "outputs": [
    {
     "output_type": "error",
     "ename": "AttributeError",
     "evalue": "'int' object has no attribute 'dict'",
     "traceback": [
      "\u001b[0;31m---------------------------------------------------------------------------\u001b[0m",
      "\u001b[0;31mAttributeError\u001b[0m                            Traceback (most recent call last)",
      "\u001b[0;32m<ipython-input-45-56e82bd44ace>\u001b[0m in \u001b[0;36m<module>\u001b[0;34m\u001b[0m\n\u001b[0;32m----> 1\u001b[0;31m \u001b[0mengine\u001b[0m\u001b[0;34m.\u001b[0m\u001b[0mmain_engine\u001b[0m\u001b[0;34m.\u001b[0m\u001b[0mgateways\u001b[0m\u001b[0;34m[\u001b[0m\u001b[0;34m'Sinopac'\u001b[0m\u001b[0;34m]\u001b[0m\u001b[0;34m.\u001b[0m\u001b[0mapi\u001b[0m\u001b[0;34m.\u001b[0m\u001b[0mkbars\u001b[0m\u001b[0;34m(\u001b[0m\u001b[0;36m1\u001b[0m\u001b[0;34m)\u001b[0m\u001b[0;34m\u001b[0m\u001b[0;34m\u001b[0m\u001b[0m\n\u001b[0m",
      "\u001b[0;32m~/miniconda3/lib/python3.8/site-packages/shioaji/shioaji.py\u001b[0m in \u001b[0;36mkbars\u001b[0;34m(self, contract, start, end, timeout, cb)\u001b[0m\n\u001b[1;32m    575\u001b[0m             \u001b[0mend\u001b[0m \u001b[0;34m(\u001b[0m\u001b[0mstr\u001b[0m\u001b[0;34m)\u001b[0m\u001b[0;34m:\u001b[0m \u001b[0;34m\"2020-06-02\"\u001b[0m\u001b[0;34m\u001b[0m\u001b[0;34m\u001b[0m\u001b[0m\n\u001b[1;32m    576\u001b[0m         \"\"\"\n\u001b[0;32m--> 577\u001b[0;31m         \u001b[0mkbars\u001b[0m \u001b[0;34m=\u001b[0m \u001b[0mself\u001b[0m\u001b[0;34m.\u001b[0m\u001b[0m_solace\u001b[0m\u001b[0;34m.\u001b[0m\u001b[0mkbars\u001b[0m\u001b[0;34m(\u001b[0m\u001b[0mcontract\u001b[0m\u001b[0;34m,\u001b[0m \u001b[0mstart\u001b[0m\u001b[0;34m,\u001b[0m \u001b[0mend\u001b[0m\u001b[0;34m,\u001b[0m \u001b[0mtimeout\u001b[0m\u001b[0;34m,\u001b[0m \u001b[0mcb\u001b[0m\u001b[0;34m)\u001b[0m\u001b[0;34m\u001b[0m\u001b[0;34m\u001b[0m\u001b[0m\n\u001b[0m\u001b[1;32m    578\u001b[0m         \u001b[0;32mreturn\u001b[0m \u001b[0mkbars\u001b[0m\u001b[0;34m\u001b[0m\u001b[0;34m\u001b[0m\u001b[0m\n\u001b[1;32m    579\u001b[0m \u001b[0;34m\u001b[0m\u001b[0m\n",
      "\u001b[0;32mshioaji/backend/solace/api.pyx\u001b[0m in \u001b[0;36mshioaji.backend.solace.api.SolaceAPI.kbars\u001b[0;34m()\u001b[0m\n",
      "\u001b[0;31mAttributeError\u001b[0m: 'int' object has no attribute 'dict'"
     ]
    }
   ],
   "source": [
    "engine.main_engine.gateways['Sinopac'].api.kbars()"
   ]
  },
  {
   "cell_type": "code",
   "execution_count": 64,
   "metadata": {},
   "outputs": [
    {
     "output_type": "execute_result",
     "data": {
      "text/plain": [
       "datetime.time(9, 53, 0, 706928)"
      ]
     },
     "metadata": {},
     "execution_count": 64
    }
   ],
   "source": [
    "from datetime import datetime\n",
    "datetime.strptime(\"{}\".format(\"09:53:00.706928\"), \"%H:%M:%S.%f\").time()"
   ]
  },
  {
   "cell_type": "code",
   "execution_count": 75,
   "metadata": {},
   "outputs": [
    {
     "output_type": "execute_result",
     "data": {
      "text/plain": [
       "'2020-02-19'"
      ]
     },
     "metadata": {},
     "execution_count": 75
    }
   ],
   "source": [
    "datetime.strptime(\"{}\".format(\"20200219\"), \"%Y%m%d\").date().isoformat()"
   ]
  },
  {
   "cell_type": "code",
   "execution_count": 78,
   "metadata": {},
   "outputs": [
    {
     "output_type": "execute_result",
     "data": {
      "text/plain": [
       "'2021-02-19'"
      ]
     },
     "metadata": {},
     "execution_count": 78
    }
   ],
   "source": [
    "datetime.today().strftime(\"%Y-%m-%d\")"
   ]
  }
 ],
 "metadata": {
  "kernelspec": {
   "display_name": "Python 3",
   "language": "python",
   "name": "python3"
  }
 },
 "nbformat": 4,
 "nbformat_minor": 2
}